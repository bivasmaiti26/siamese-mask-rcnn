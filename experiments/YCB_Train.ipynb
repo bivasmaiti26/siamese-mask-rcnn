{
  "nbformat": 4,
  "nbformat_minor": 0,
  "metadata": {
    "colab": {
      "name": "YCB_Train.ipynb",
      "version": "0.3.2",
      "provenance": [],
      "toc_visible": true
    },
    "kernelspec": {
      "name": "python3",
      "display_name": "Python 3"
    },
    "accelerator": "GPU"
  },
  "cells": [
    {
      "cell_type": "markdown",
      "metadata": {
        "id": "qDLCnpLpeWJa",
        "colab_type": "text"
      },
      "source": [
        "###Repository and Data Setup"
      ]
    },
    {
      "cell_type": "code",
      "metadata": {
        "id": "e5pP4Hi3XeRZ",
        "colab_type": "code",
        "colab": {}
      },
      "source": [
        "#Setup Repo\n",
        "!git clone https://github.com/bivasmaiti26/siamese-mask-rcnn.git\n",
        "#Get Imagenet Weights\n",
        "%cd /content/siamese-mask-rcnn\n",
        "%mkdir checkpoints\n",
        "%cd /content/siamese-mask-rcnn/checkpoints\n",
        "!wget https://github.com/bethgelab/siamese-mask-rcnn/releases/download/v0.1/imagenet_687.h5\n",
        "%cd /content/siamese-mask-rcnn/data\n",
        "!git clone https://github.com/bivasmaiti26/cocoapi.git\n"
      ],
      "execution_count": 0,
      "outputs": []
    },
    {
      "cell_type": "code",
      "metadata": {
        "id": "wtaH5dKdYsFO",
        "colab_type": "code",
        "colab": {}
      },
      "source": [
        "#Setup Data (for Google Colab)\n",
        "%cd /content/\n",
        "from colab_utils import GoogleDrive\n",
        "drive = GoogleDrive()\n",
        "drive.download_file('ycb_train.zip', 'ycb_train.zip')\n",
        "drive.download_file('ycb_val.zip', 'ycb_val.zip')\n",
        "!unzip ycb_train.zip > train.out\n",
        "!unzip ycb_val.zip > val.out\n"
      ],
      "execution_count": 0,
      "outputs": []
    },
    {
      "cell_type": "code",
      "metadata": {
        "id": "8ovG4LczZvXR",
        "colab_type": "code",
        "colab": {}
      },
      "source": [
        "#Installation of correct versions of stuff\n",
        "%cd /content/siamese-mask-rcnn/\n",
        "!sudo pip uninstall scikit_image\n",
        "!sudo pip uninstall keras\n",
        "!pip uninstall pycocotools\n",
        "! sudo pip install numpy==1.14.1 cython scikit_image==0.13.1 keras==2.1.6 h5py imgaug opencv_python\n",
        "! (cd data/cocoapi/PythonAPI/ && sudo make install)"
      ],
      "execution_count": 0,
      "outputs": []
    },
    {
      "cell_type": "markdown",
      "metadata": {
        "id": "3M27LaI5ONYp",
        "colab_type": "text"
      },
      "source": [
        "**Restart Runtime after all installations**"
      ]
    },
    {
      "cell_type": "markdown",
      "metadata": {
        "id": "0ay5UmQVhnUz",
        "colab_type": "text"
      },
      "source": [
        "###Imports"
      ]
    },
    {
      "cell_type": "code",
      "metadata": {
        "id": "SAFSMPkcYqEZ",
        "colab_type": "code",
        "colab": {}
      },
      "source": [
        "%cd /content/siamese-mask-rcnn/\n",
        "%load_ext autoreload\n",
        "%autoreload 2\n",
        "%matplotlib inline\n",
        "#%load_ext line_profiler\n",
        "\n",
        "import tensorflow as tf\n",
        "tf.logging.set_verbosity(tf.logging.INFO)\n",
        "sess_config = tf.ConfigProto()\n",
        "\n",
        "import sys\n",
        "import os\n",
        "\n",
        "COCO_DATA = 'data/coco'\n",
        "MASK_RCNN_MODEL_PATH = 'lib/Mask_RCNN/'\n",
        "\n",
        "if MASK_RCNN_MODEL_PATH not in sys.path:\n",
        "    sys.path.append(MASK_RCNN_MODEL_PATH)\n",
        "    \n",
        "from samples.ycb import ycb\n",
        "from mrcnn import utils\n",
        "from mrcnn import model as modellib\n",
        "from mrcnn import visualize\n",
        "    \n",
        "from lib import utils as siamese_utils\n",
        "from lib import model as siamese_model\n",
        "from lib import config as siamese_config\n",
        "   \n",
        "import time\n",
        "import datetime\n",
        "import random\n",
        "import numpy as np\n",
        "import skimage.io\n",
        "import imgaug\n",
        "import pickle\n",
        "import matplotlib.pyplot as plt\n",
        "from collections import OrderedDict\n",
        "\n",
        "# Root directory of the project\n",
        "ROOT_DIR = os.getcwd()\n",
        "\n",
        "# Directory to save logs and trained model\n",
        "MODEL_DIR = os.path.join(ROOT_DIR, \"logs\")\n",
        "%cd /content/siamese-mask-rcnn/"
      ],
      "execution_count": 0,
      "outputs": []
    },
    {
      "cell_type": "code",
      "metadata": {
        "id": "S6yNvsobkVKb",
        "colab_type": "code",
        "colab": {}
      },
      "source": [
        "exclude_classes = [1,5,9,14]\n",
        "train_classes = np.array(range(1,21))[np.array([i not in exclude_classes for i in range(1,21)])]\n"
      ],
      "execution_count": 0,
      "outputs": []
    },
    {
      "cell_type": "markdown",
      "metadata": {
        "id": "maP0LqWShuBW",
        "colab_type": "text"
      },
      "source": [
        "###Dataset Setup"
      ]
    },
    {
      "cell_type": "code",
      "metadata": {
        "id": "dntFe4dJ02ue",
        "colab_type": "code",
        "colab": {}
      },
      "source": [
        "index = 1 #experiment number"
      ],
      "execution_count": 0,
      "outputs": []
    },
    {
      "cell_type": "code",
      "metadata": {
        "id": "yuBTvbNYzupk",
        "colab_type": "code",
        "colab": {}
      },
      "source": [
        "#Put link to dataset\n",
        "%cd /content/siamese-mask-rcnn/\n",
        "!ln -s /content/ycb_train ycb_train\n",
        "!ln -s /content/ycb_val ycb_val"
      ],
      "execution_count": 0,
      "outputs": []
    },
    {
      "cell_type": "code",
      "metadata": {
        "id": "svoTE8Kxka06",
        "colab_type": "code",
        "colab": {}
      },
      "source": [
        "# Load YCB/train dataset- \n",
        "ycb_train = siamese_utils.IndexedYCBDataset('train')\n",
        "ycb_train.load_ycb()\n",
        "ycb_train.prepare()\n",
        "ycb_train.build_indices()\n",
        "ycb_train.ACTIVE_CLASSES = train_classes\n",
        "\n",
        "\n",
        "# Load YCB/val dataset\n",
        "ycb_val = siamese_utils.IndexedYCBDataset('val')\n",
        "ycb_val.load_ycb(100)\n",
        "ycb_val.prepare()\n",
        "ycb_val.build_indices()\n",
        "ycb_val.ACTIVE_CLASSES = train_classes"
      ],
      "execution_count": 0,
      "outputs": []
    },
    {
      "cell_type": "markdown",
      "metadata": {
        "id": "dCtN6iNp4jKc",
        "colab_type": "text"
      },
      "source": [
        "###Training Configuration"
      ]
    },
    {
      "cell_type": "code",
      "metadata": {
        "id": "vMOtx8gwlqEV",
        "colab_type": "code",
        "colab": {}
      },
      "source": [
        "class TrainConfig(siamese_config.Config):\n",
        "    # Set batch size to 1 since we'll be running inference on\n",
        "    # one image at a time. Batch size = GPU_COUNT * IMAGES_PER_GPU\n",
        "    GPU_COUNT = 4\n",
        "    IMAGES_PER_GPU = 3\n",
        "    NUM_CLASSES = 1 + 1\n",
        "    NAME = 'parallel_coco'\n",
        "    EXPERIMENT = 'i{}'.format(index)\n",
        "    CHECKPOINT_DIR = '../checkpoints/'\n",
        "    # Reduced image sizes\n",
        "    TARGET_MAX_DIM = 192\n",
        "    TARGET_MIN_DIM = 150\n",
        "    IMAGE_MIN_DIM = 800\n",
        "    IMAGE_MAX_DIM = 1024\n",
        "    # Reduce model size\n",
        "    FPN_CLASSIF_FC_LAYERS_SIZE = 1024\n",
        "    FPN_FEATUREMAPS = 256\n",
        "    # Reduce number of rois at all stages\n",
        "    RPN_ANCHOR_STRIDE = 1\n",
        "    RPN_TRAIN_ANCHORS_PER_IMAGE = 256\n",
        "    POST_NMS_ROIS_TRAINING = 2000\n",
        "    POST_NMS_ROIS_INFERENCE = 1000\n",
        "    TRAIN_ROIS_PER_IMAGE = 200\n",
        "    DETECTION_MAX_INSTANCES = 100\n",
        "    MAX_GT_INSTANCES = 100\n",
        "    # Adapt NMS Threshold\n",
        "    DETECTION_NMS_THRESHOLD = 0.5\n",
        "    # Adapt loss weights\n",
        "    LOSS_WEIGHTS = {'rpn_class_loss': 2.0, \n",
        "                    'rpn_bbox_loss': 0.1, \n",
        "                    'mrcnn_class_loss': 2.0, \n",
        "                    'mrcnn_bbox_loss': 0.5, \n",
        "                    'mrcnn_mask_loss': 1.0}\n",
        "    \n",
        "config = TrainConfig()\n",
        "config.display()"
      ],
      "execution_count": 0,
      "outputs": []
    },
    {
      "cell_type": "code",
      "metadata": {
        "id": "YuOPB69slvxg",
        "colab_type": "code",
        "colab": {}
      },
      "source": [
        "# Create model object in inference mode.\n",
        "model = siamese_model.SiameseMaskRCNN(mode=\"training\", model_dir=MODEL_DIR, config=config)"
      ],
      "execution_count": 0,
      "outputs": []
    },
    {
      "cell_type": "code",
      "metadata": {
        "id": "8ONhBjKQl5iF",
        "colab_type": "code",
        "colab": {}
      },
      "source": [
        "train_schedule = OrderedDict()\n",
        "train_schedule[1] = {\"learning_rate\": config.LEARNING_RATE, \"layers\": \"heads\"}\n",
        "train_schedule[120] = {\"learning_rate\": config.LEARNING_RATE, \"layers\": \"all\"}\n",
        "train_schedule[160] = {\"learning_rate\": config.LEARNING_RATE/10, \"layers\": \"all\"}"
      ],
      "execution_count": 0,
      "outputs": []
    },
    {
      "cell_type": "markdown",
      "metadata": {
        "id": "yXIiD_Os4pBg",
        "colab_type": "text"
      },
      "source": [
        "###Load Model"
      ]
    },
    {
      "cell_type": "code",
      "metadata": {
        "id": "IdCvL0exl_B_",
        "colab_type": "code",
        "colab": {}
      },
      "source": [
        "%cd /content/siamese-mask-rcnn/lib/\n",
        "# Load weights trained on Imagenet\n",
        "try: \n",
        "    model.load_latest_checkpoint(train_schedule=train_schedule)\n",
        "except:\n",
        "    model.load_imagenet_weights(pretraining='imagenet-687')"
      ],
      "execution_count": 0,
      "outputs": []
    },
    {
      "cell_type": "markdown",
      "metadata": {
        "id": "jzQyrcbV4sAQ",
        "colab_type": "text"
      },
      "source": [
        "###Train"
      ]
    },
    {
      "cell_type": "code",
      "metadata": {
        "id": "uvmf2EzXnMA3",
        "colab_type": "code",
        "colab": {}
      },
      "source": [
        "%cd /content/siamese-mask-rcnn/\n",
        "for epochs, parameters in train_schedule.items():\n",
        "    print(\"\")\n",
        "    print(\"training layers {} until epoch {} with learning_rate {}\".format(parameters[\"layers\"], \n",
        "                                                                          epochs, \n",
        "                                                                          parameters[\"learning_rate\"]))\n",
        "    model.train(ycb_train, ycb_val, \n",
        "                learning_rate=parameters[\"learning_rate\"], \n",
        "                epochs=epochs, \n",
        "                layers=parameters[\"layers\"])"
      ],
      "execution_count": 0,
      "outputs": []
    }
  ]
}